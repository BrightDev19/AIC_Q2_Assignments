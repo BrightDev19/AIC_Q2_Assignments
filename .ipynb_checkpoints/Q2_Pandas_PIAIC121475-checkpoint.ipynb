{
 "cells": [
  {
   "cell_type": "code",
   "execution_count": 2,
   "metadata": {},
   "outputs": [
    {
     "name": "stdout",
     "output_type": "stream",
     "text": [
      "0\n",
      "10\n",
      "        State  TotalPop             Hispanic                White  \\\n",
      "0     Alabama   4830620  3.7516156462584975%     61.878656462585%   \n",
      "1      Alaska    733375   5.909580838323351%  60.910179640718574%   \n",
      "2     Arizona   6641928  29.565921052631502%  57.120000000000026%   \n",
      "3    Arkansas   2958208   6.215474452554738%   71.13781021897813%   \n",
      "4  California  38421464  37.291874687968054%   40.21578881677474%   \n",
      "\n",
      "                 Black                Native                Asian  \\\n",
      "0   31.25297619047618%   0.4532312925170065%  1.0502551020408146%   \n",
      "1  2.8485029940119775%    16.39101796407186%   5.450299401197604%   \n",
      "2  3.8509868421052658%     4.35506578947368%   2.876578947368419%   \n",
      "3  18.968759124087573%   0.5229197080291965%  1.1423357664233578%   \n",
      "4   5.677396405391911%  0.40529206190713685%  13.052234148776776%   \n",
      "\n",
      "                Pacific              Income            GenderPop   MalePop  \\\n",
      "0  0.03435374149659865%  $43296.35860306644    2341093M_2489527F   2341093   \n",
      "1   1.0586826347305378%  $70354.74390243902      384160M_349215F    384160   \n",
      "2  0.16763157894736833%  $54207.82095490716    3299088M_3342840F   3299088   \n",
      "3  0.14686131386861315%  $41935.63396778917    1451913M_1506295F   1451913   \n",
      "4  0.35141038442336353%  $67264.78230266465  19087135M_19334329F  19087135   \n",
      "\n",
      "   FemalePop  \n",
      "0    2489527  \n",
      "1     349215  \n",
      "2    3342840  \n",
      "3    1506295  \n",
      "4   19334329  \n",
      "State        object\n",
      "TotalPop      int64\n",
      "Hispanic     object\n",
      "White        object\n",
      "Black        object\n",
      "Native       object\n",
      "Asian        object\n",
      "Pacific      object\n",
      "Income       object\n",
      "GenderPop    object\n",
      "MalePop       int64\n",
      "FemalePop     int64\n",
      "dtype: object\n"
     ]
    }
   ],
   "source": [
    "import pandas as pd\n",
    "import numpy as np\n",
    "uri = r\"Q2_Pandas_Assignments\"\n",
    "fileNames = ['states0.csv','states1.csv','states2.csv','states3.csv','states4.csv','states5.csv','states6.csv','states7.csv','states8.csv','states9.csv']\n",
    "dfs = []\n",
    "print(len(dfs))\n",
    "for i in range(len(fileNames)):\n",
    "    url = '\\\\'.join([uri,fileNames[i]])\n",
    "    dfs.append(pd.read_csv('Q2_Pandas_Assignments\\states0.csv',index_col=[0]))\n",
    "\n",
    "print(len(dfs))\n",
    "us_census = pd.concat(dfs,ignore_index=True)\n",
    "# us_census = pd.read_csv('Q2_Pandas_Assignments\\states0.csv',index_col=[0])\n",
    "# print(us_census.Income)\n",
    "# us_census['GenderPop']=us_census['GenderPop'].astype('string')\n",
    "us_census['MalePop'] = us_census['GenderPop'].str.split('M_',expand=True)[0].astype('int64')\n",
    "us_census['FemalePop'] = us_census.TotalPop - us_census.MalePop\n",
    "print(us_census.head())\n",
    "print(us_census.dtypes)\n"
   ]
  },
  {
   "cell_type": "code",
   "execution_count": 4,
   "metadata": {},
   "outputs": [
    {
     "name": "stdout",
     "output_type": "stream",
     "text": [
      "0    $43296.35860306644\n",
      "1    $70354.74390243902\n",
      "2    $54207.82095490716\n",
      "3    $41935.63396778917\n",
      "4    $67264.78230266465\n",
      "Name: Income, dtype: object\n"
     ]
    }
   ],
   "source": [
    "print(us_census.Income.head())"
   ]
  },
  {
   "cell_type": "code",
   "execution_count": null,
   "metadata": {},
   "outputs": [],
   "source": []
  }
 ],
 "metadata": {
  "kernelspec": {
   "display_name": "PyCharm (AI-Q2-learning-resources)",
   "language": "python",
   "name": "pycharm-286f02e9"
  },
  "language_info": {
   "codemirror_mode": {
    "name": "ipython",
    "version": 3
   },
   "file_extension": ".py",
   "mimetype": "text/x-python",
   "name": "python",
   "nbconvert_exporter": "python",
   "pygments_lexer": "ipython3",
   "version": "3.8.2"
  }
 },
 "nbformat": 4,
 "nbformat_minor": 2
}
