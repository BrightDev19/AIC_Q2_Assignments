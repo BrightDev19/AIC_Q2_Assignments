{
 "metadata": {
  "language_info": {
   "codemirror_mode": {
    "name": "ipython",
    "version": 3
   },
   "file_extension": ".py",
   "mimetype": "text/x-python",
   "name": "python",
   "nbconvert_exporter": "python",
   "pygments_lexer": "ipython3",
   "version": "3.8.2-final"
  },
  "orig_nbformat": 2,
  "kernelspec": {
   "name": "pycharm-286f02e9",
   "display_name": "PyCharm (AI-Q2-learning-resources)",
   "language": "python"
  }
 },
 "nbformat": 4,
 "nbformat_minor": 2,
 "cells": [
  {
   "source": [
    "# Pandas Practice"
   ],
   "cell_type": "markdown",
   "metadata": {}
  },
  {
   "cell_type": "code",
   "execution_count": 4,
   "metadata": {},
   "outputs": [
    {
     "output_type": "stream",
     "name": "stdout",
     "text": [
      "0           Apple\n2           Peach\n4     Pomegranate\n6           Mango\n8           Apple\n10        Aprigot\ndtype: object\n['Apple' 'Peach' 'Pomegranate' 'Mango' 'Apple' 'Aprigot']\nInt64Index([0, 2, 4, 6, 8, 10], dtype='int64')\n0          Apple\n2          Peach\n4    Pomegranate\ndtype: object\n0    Apple\n8    Apple\ndtype: object\n0           Fresh Apple\n2           Fresh Peach\n4     Fresh Pomegranate\n6           Fresh Mango\n8           Fresh Apple\n10        Fresh Aprigot\ndtype: object\nTrue\n"
     ]
    }
   ],
   "source": [
    "# Series practice\n",
    "# Series with default Index\n",
    "import pandas as pd\n",
    "\n",
    "pd_Sr = pd.Series(['Apple', 'Peach','Pomegranate','Mango','Apple', 'Aprigot'],index=[0,2,4,6,8,10])\n",
    "\n",
    "print(pd_Sr) #prints all elements of the series eith their index\n",
    "print(pd_Sr.values)\n",
    "print(pd_Sr.index)\n",
    "print(pd_Sr[0:3]) # prints the first three elements of the series\n",
    "\n",
    "# Boolean filteration of the values \n",
    "print(pd_Sr[pd_Sr=='Apple'])\n",
    "# Scalar operations\n",
    "print('Fresh '+pd_Sr)\n",
    "\n",
    "print(8 in pd_Sr) # Finds that index 8 exist in the series"
   ]
  },
  {
   "cell_type": "code",
   "execution_count": 26,
   "metadata": {},
   "outputs": [
    {
     "output_type": "stream",
     "name": "stdout",
     "text": [
      "Ohio      35000\nTexas     71000\nOregon    16000\nUtah       5000\ndtype: int64\n--------------------\nOhio      35000\nTexas     71000\nOregon    16000\nUtah       5000\ndtype: int64\nTexas          True\nCalifornia    False\nUtah           True\nOhio           True\nOregon         True\ndtype: bool\n--------------------\nSeries([], dtype: int64)\n"
     ]
    }
   ],
   "source": [
    "# Series creation with Python Dictionary\n",
    "# While passing dictionary to pd series, Keys become indexes and values remains values of the sereis.\n",
    "sdata = {'Ohio': 35000, 'Texas': 71000, 'Oregon': 16000, 'Utah': 5000}\n",
    "states = [\"Texas\",\"California\",\"Utah\",\"Ohio\",\"Oregon\"]\n",
    "obj3 = pd.Series(sdata)\n",
    "obj4 = pd.Series(sdata,index=states)\n",
    "print(obj3)\n",
    "print('-'*20)\n",
    "print(obj3[obj4.notnull()])\n",
    "print(obj4.notnull())\n",
    "print('-' * 20)\n",
    "print(obj3[obj4.isnull()])"
   ]
  },
  {
   "cell_type": "code",
   "execution_count": null,
   "metadata": {},
   "outputs": [],
   "source": []
  }
 ]
}