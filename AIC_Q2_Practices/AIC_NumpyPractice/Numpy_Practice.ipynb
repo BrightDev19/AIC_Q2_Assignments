{
 "metadata": {
  "language_info": {
   "codemirror_mode": {
    "name": "ipython",
    "version": 3
   },
   "file_extension": ".py",
   "mimetype": "text/x-python",
   "name": "python",
   "nbconvert_exporter": "python",
   "pygments_lexer": "ipython3",
   "version": "3.8.2-final"
  },
  "orig_nbformat": 2,
  "kernelspec": {
   "name": "pycharm-286f02e9",
   "display_name": "PyCharm (AI-Q2-learning-resources)",
   "language": "python"
  }
 },
 "nbformat": 4,
 "nbformat_minor": 2,
 "cells": [
  {
   "source": [
    "# Numpy Practice\n"
   ],
   "cell_type": "markdown",
   "metadata": {}
  },
  {
   "cell_type": "code",
   "execution_count": 44,
   "metadata": {},
   "outputs": [
    {
     "output_type": "stream",
     "name": "stdout",
     "text": [
      "[[ 1.56932007 -0.46891702  1.21952207  0.24450975]\n [ 0.21257488  0.91112602  0.2386867  -1.30123951]\n [-1.47585067  0.39457025 -1.83300342  2.21145785]]\n[[3 0 2 0]\n [0 1 0 2]\n [2 0 3 4]]\n\u001b[32m\nMathematical Operations with ndarrays\n[[ 9  0  4  0]\n [ 0  1  0  4]\n [ 4  0  9 16]]\n"
     ]
    }
   ],
   "source": [
    "import numpy as np\n",
    "arr1 = np.random.randn(3,4) # creates a 2-d array with random signed number\n",
    "arr2= (np.absolute(arr1*2)).astype('i2') # convertes the generated array to binary array.\n",
    "print(arr1)\n",
    "print(arr2)\n",
    "print(\"\\u001b[32m\")\n",
    "print(\"Mathematical Operations with ndarrays\")\n",
    "\n",
    "# vectorize Multiplication\n",
    "print(arr2*arr2)"
   ]
  },
  {
   "source": [
    "# Array Creation"
   ],
   "cell_type": "markdown",
   "metadata": {}
  },
  {
   "cell_type": "code",
   "execution_count": 2,
   "metadata": {},
   "outputs": [
    {
     "output_type": "stream",
     "name": "stdout",
     "text": [
      "np_arr: []\nnp_asarr []\nnp_arr1 [ 0  1  2  3  4  5  6  7  8  9 10 11 12 13 14 15 16 17 18 19 20]\n[[1.23574142e-311 1.77863633e-322 0.00000000e+000 0.00000000e+000\n  6.79038653e-313]\n [7.11172819e-038 7.48418598e-067 6.80899911e-091 9.14559487e-043\n  2.22522648e-306]]\nArr_Full []\nEye\n[[ True False False]\n [False  True False]\n [False False  True]]\n"
     ]
    },
    {
     "output_type": "execute_result",
     "data": {
      "text/plain": [
       "<memory at 0x000002465DA4DD00>"
      ]
     },
     "metadata": {},
     "execution_count": 2
    }
   ],
   "source": [
    "import numpy as np\n",
    "# np.array() method is the simplest way to create ndarray\n",
    "np_arr = np.array(())\n",
    "np_asarr = np.asarray(np_arr)\n",
    "np_empt = np.empty((2,5))\n",
    "np_arr1 = np.arange(21)\n",
    "print(\"np_arr:\",np_arr)\n",
    "print('np_asarr',np_asarr)\n",
    "print('np_arr1',np_arr1)\n",
    "print(np_empt)\n",
    "np_arrfl = np.full_like(np_asarr,10,order='F')\n",
    "print(\"Arr_Full\",np_arrfl)\n",
    "np_eye = np.eye(3,dtype=bool)\n",
    "print(\"Eye\",np_eye, sep='\\n')\n",
    "np_arr.data"
   ]
  },
  {
   "source": [
    "# Slicing and Indexing"
   ],
   "cell_type": "markdown",
   "metadata": {}
  },
  {
   "cell_type": "code",
   "execution_count": 99,
   "metadata": {},
   "outputs": [
    {
     "output_type": "stream",
     "name": "stdout",
     "text": [
      "Dimensions 3\nHelp on tuple object:\n\nclass tuple(object)\n |  tuple(iterable=(), /)\n |  \n |  Built-in immutable sequence.\n |  \n |  If no argument is given, the constructor returns an empty tuple.\n |  If iterable is specified the tuple is initialized from iterable's items.\n |  \n |  If the argument is a tuple, the return value is the same object.\n |  \n |  Built-in subclasses:\n |      asyncgen_hooks\n |      UnraisableHookArgs\n |  \n |  Methods defined here:\n |  \n |  __add__(self, value, /)\n |      Return self+value.\n |  \n |  __contains__(self, key, /)\n |      Return key in self.\n |  \n |  __eq__(self, value, /)\n |      Return self==value.\n |  \n |  __ge__(self, value, /)\n |      Return self>=value.\n |  \n |  __getattribute__(self, name, /)\n |      Return getattr(self, name).\n |  \n |  __getitem__(self, key, /)\n |      Return self[key].\n |  \n |  __getnewargs__(self, /)\n |  \n |  __gt__(self, value, /)\n |      Return self>value.\n |  \n |  __hash__(self, /)\n |      Return hash(self).\n |  \n |  __iter__(self, /)\n |      Implement iter(self).\n |  \n |  __le__(self, value, /)\n |      Return self<=value.\n |  \n |  __len__(self, /)\n |      Return len(self).\n |  \n |  __lt__(self, value, /)\n |      Return self<value.\n |  \n |  __mul__(self, value, /)\n |      Return self*value.\n |  \n |  __ne__(self, value, /)\n |      Return self!=value.\n |  \n |  __repr__(self, /)\n |      Return repr(self).\n |  \n |  __rmul__(self, value, /)\n |      Return value*self.\n |  \n |  count(self, value, /)\n |      Return number of occurrences of value.\n |  \n |  index(self, value, start=0, stop=9223372036854775807, /)\n |      Return first index of value.\n |      \n |      Raises ValueError if the value is not present.\n |  \n |  ----------------------------------------------------------------------\n |  Static methods defined here:\n |  \n |  __new__(*args, **kwargs) from builtins.type\n |      Create and return a new object.  See help(type) for accurate signature.\n\nNone\n\u001b[42;2m\n[False  True  True  True  True]\n"
     ]
    }
   ],
   "source": [
    "import numpy as np\n",
    "arr_4d = np.array(np.arange(20)).reshape(2,2,5)\n",
    "print(\"Dimensions\",arr_4d.ndim)\n",
    "print(help(arr_4d.strides))\n",
    "print(\"\\u001b[42;2m\")\n",
    "print(arr_4d[1,0]>10)"
   ]
  },
  {
   "cell_type": "code",
   "execution_count": null,
   "metadata": {},
   "outputs": [],
   "source": []
  }
 ]
}