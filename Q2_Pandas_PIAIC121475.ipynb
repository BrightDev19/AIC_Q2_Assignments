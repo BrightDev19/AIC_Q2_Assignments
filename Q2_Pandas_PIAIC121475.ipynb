{
 "cells": [
  {
   "cell_type": "code",
   "execution_count": 95,
   "metadata": {
    "pycharm": {
     "name": "#%%\n"
    },
    "tags": []
   },
   "outputs": [
    {
     "name": "stdout",
     "output_type": "stream",
     "text": [
      "Us_census Rows 60\n",
      "Index(['State', 'TotalPop', 'Hispanic', 'White', 'Black', 'Native', 'Asian',\n",
      "       'Pacific', 'Income', 'GenderPop', 'men_Pop', 'women_Pop'],\n",
      "      dtype='object')\n"
     ]
    },
    {
     "data": {
      "text/plain": "<Figure size 432x288 with 1 Axes>",
      "image/png": "[encoded data removed]"
     },
     "metadata": {
      "needs_background": "light"
     },
     "output_type": "display_data"
    },
    {
     "data": {
      "text/plain": "<Figure size 432x288 with 1 Axes>",
      "image/png": "[encoded data removed]"
     },
     "metadata": {
      "needs_background": "light"
     },
     "output_type": "display_data"
    }
   ],
   "source": [
    "import pandas as pd\n",
    "import numpy as np\n",
    "import  re\n",
    "import matplotlib.pyplot as plt\n",
    "\n",
    "uri = \"Q2_Pandas_Assignments\"\n",
    "fileNames = ['states0.csv','states1.csv','states2.csv','states3.csv','states4.csv','states5.csv','states6.csv','states7.csv','states8.csv','states9.csv']\n",
    "dataframes = []\n",
    "for i in range(len(fileNames)):\n",
    "    url = '\\\\'.join([uri,fileNames[i]])\n",
    "    dataframes.append(pd.read_csv(url,index_col=[0]))\n",
    "\n",
    "# Merging all dataframes into one dataframe\n",
    "us_census = pd.concat(dataframes,ignore_index=True)\n",
    "print(\"Us_census Rows\",len(us_census))\n",
    "\n",
    "# Utility Functions\n",
    "def to_string(val):\n",
    "    \"\"\"Converts the DataType of any Series to String\"\"\"\n",
    "    return val.astype('string')\n",
    "\n",
    "def col_in_proper_format(str_val):\n",
    "    \"\"\"Takes Pandas Series as argument and\n",
    "        Changes the DataType to float\n",
    "        return Pandas Series\"\"\"\n",
    "    pat2='[$MF%]'\n",
    "    # regex1 = re.compile(pat)\n",
    "    if str_val[0].startswith('$'):\n",
    "        str_val=to_string(str_val)\n",
    "        result = str_val.str.split(pat2,expand=True)[1]\n",
    "        result[result==\"\"]='0' # Assign '0' value to empty string\n",
    "        return np.round(result.astype('float'),2) # change the dtype to float and round of to two decimal points\n",
    "    elif str_val[0].endswith('M') or str_val[0].endswith('F'):\n",
    "        result = str_val.str.split(pat2,expand=True)[0]\n",
    "        result[result==\"\"]='0' # Assign '0' value to empty string\n",
    "        result = result.astype('int64')\n",
    "        result.replace(0,np.nan,inplace=True)\n",
    "        return result\n",
    "    elif str_val[0].endswith('%'):\n",
    "        str_val=to_string(str_val)\n",
    "        result = str_val.str.split(pat2,expand=True)[0]\n",
    "        result[result==\"\"]='0' # Assign '0' value to empty string\n",
    "        return np.round(result.astype('float'),2) # change the dtype to float and round of to two decimal points\n",
    "\n",
    "    \n",
    "def col_splitter(combinedCol,separator):\n",
    "    combinedCol = to_string(combinedCol)\n",
    "    men = combinedCol.str.split(separator,expand=True)[0]\n",
    "    women = combinedCol.str.split(separator,expand=True)[1]\n",
    "    return men, women\n",
    "\n",
    "us_census['men_Pop'],us_census['women_Pop'] = col_splitter(us_census.GenderPop,'_')\n",
    "us_census.men_Pop = col_in_proper_format(us_census.men_Pop)\n",
    "us_census.women_Pop = col_in_proper_format(us_census.women_Pop)\n",
    "us_census.women_Pop.fillna(us_census.TotalPop-us_census.men_Pop,inplace=True)\n",
    "\n",
    "us_census.Income = col_in_proper_format(us_census.Income)\n",
    "us_census.drop_duplicates(keep ='first',inplace=True)\n",
    "plt.scatter(us_census.women_Pop,us_census.Income)\n",
    "plt.show()\n",
    "print(us_census.columns)\n",
    "us_census.Hispanic = col_in_proper_format(us_census.Hispanic)\n",
    "us_census.White = col_in_proper_format(us_census.White)\n",
    "us_census.Black = col_in_proper_format(us_census.Black)\n",
    "us_census.Native = col_in_proper_format(us_census.Native)\n",
    "us_census.Asian = col_in_proper_format(us_census.Asian)\n",
    "us_census.Pacific = col_in_proper_format(us_census.Pacific)\n",
    "us_census.Pacific.fillna(method = 'ffill',inplace=True)\n",
    "histogram_data = [us_census.Hispanic,us_census.White,us_census.Black,us_census.Asian,us_census.Native,us_census.Pacific]\n",
    "plt.hist(histogram_data,bins=list(range(50)))\n",
    "plt.show()\n"
   ]
  },
  {
   "cell_type": "code",
   "execution_count": 68,
   "metadata": {
    "pycharm": {
     "name": "#%%\n"
    }
   },
   "outputs": [
    {
     "name": "stdout",
     "output_type": "stream",
     "text": [
      "        location  product_type product_description  quantity  price  in_stock  \\\n",
      "0  Staten Island         seeds               daisy         4   6.99      True   \n",
      "1  Staten Island         seeds          calla lily        46  19.99      True   \n",
      "2  Staten Island         seeds              tomato        85  13.99      True   \n",
      "3  Staten Island  garden tools                rake         4  13.99      True   \n",
      "4  Staten Island  garden tools         wheelbarrow         0  89.99     False   \n",
      "\n",
      "   total_value            full_description  \n",
      "0        27.96               seeds - daisy  \n",
      "1       919.54          seeds - calla lily  \n",
      "2      1189.15              seeds - tomato  \n",
      "3        55.96         garden tools - rake  \n",
      "4         0.00  garden tools - wheelbarrow  \n"
     ]
    }
   ],
   "source": [
    "import numpy as np\n",
    "import pandas as pd\n",
    "\n",
    "inventory = pd.read_csv('Q2_Pandas_Assignments\\inventory.csv')\n",
    "staten_island=inventory[:10]\n",
    "product_request = staten_island.product_description\n",
    "condition = (inventory['location']=='Brooklyn') & (inventory['product_type']=='seeds')\n",
    "seed_request = inventory[condition]\n",
    "inventory['in_stock'] = inventory['quantity']>0\n",
    "inventory['total_value'] = inventory['price'] * inventory['quantity']\n",
    "combine_lambda = lambda row:'{0} - {1}'.format(row[1], row[2])\n",
    "inventory['full_description'] = inventory.apply(combine_lambda,axis=1)\n",
    "print(inventory.head(5))\n",
    "\n"
   ]
  }
 ],
 "metadata": {
  "kernelspec": {
   "display_name": "PyCharm (AI-Q2-learning-resources)",
   "language": "python",
   "name": "pycharm-286f02e9"
  },
  "language_info": {
   "codemirror_mode": {
    "name": "ipython",
    "version": 3
   },
   "file_extension": ".py",
   "mimetype": "text/x-python",
   "name": "python",
   "nbconvert_exporter": "python",
   "pygments_lexer": "ipython3",
   "version": "3.8.2-final"
  }
 },
 "nbformat": 4,
 "nbformat_minor": 2
}